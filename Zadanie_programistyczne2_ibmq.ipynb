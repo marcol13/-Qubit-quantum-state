{
 "cells": [
  {
   "cell_type": "code",
   "execution_count": 17,
   "metadata": {},
   "outputs": [
    {
     "name": "stderr",
     "output_type": "stream",
     "text": [
      "ibmqfactory.load_account:WARNING:2020-08-28 16:41:09,785: Credentials are already in use. The existing account in the session will be replaced.\n"
     ]
    }
   ],
   "source": [
    "%matplotlib inline\n",
    "# Importowanie potrzebnych bibliotek\n",
    "from qiskit import QuantumCircuit, ClassicalRegister, QuantumRegister, execute, Aer, IBMQ\n",
    "from qiskit.compiler import transpile, assemble\n",
    "from qiskit.tools.jupyter import *\n",
    "from qiskit.visualization import *\n",
    "from math import pi\n",
    "\n",
    "provider = IBMQ.load_account()"
   ]
  },
  {
   "cell_type": "code",
   "execution_count": 18,
   "metadata": {},
   "outputs": [],
   "source": [
    "# wybór symulatora kwantowego\n",
    "backend = Aer.get_backend('qasm_simulator')\n",
    "n=1 # liczba rejestrów\n",
    "seria=2048 # liczba pomiarów"
   ]
  },
  {
   "cell_type": "code",
   "execution_count": 19,
   "metadata": {},
   "outputs": [],
   "source": [
    "#Zdefiniowanie zmiennych oraz kątów\n",
    "A1 = 196\n",
    "A2 = 244\n",
    "A3 = 393\n",
    "A4 = 394\n",
    "k1 = (A1 + A2 + A3 + A4) % 2\n",
    "k2 = (A1 + A2 + A3 + A4) % (2 ** 2)\n",
    "k3 = (A1 + A2 + A3 + A4) % (2 ** 3)\n",
    "theta0 = 0 if k2 == 0 else pi / k2\n",
    "phi0 = 0 if k3 == 0 else 2 * pi / k3\n",
    "\n",
    "#Implementacja operacji (2.2)\n",
    "def operation(circuit,qubit,k,phi,theta):\n",
    "    if k == 1:\n",
    "        circuit.x(qubit[0])\n",
    "    circuit.u3(theta,0,0,qubit[0])\n",
    "    circuit.u1(phi,qubit[0])"
   ]
  },
  {
   "cell_type": "code",
   "execution_count": 20,
   "metadata": {},
   "outputs": [
    {
     "data": {
      "text/plain": [
       "<qiskit.circuit.instructionset.InstructionSet at 0x7fac6da1b550>"
      ]
     },
     "execution_count": 20,
     "metadata": {},
     "output_type": "execute_result"
    }
   ],
   "source": [
    "#Pomiar typu Z (2.3)\n",
    "nz = 1  # Liczba kubitów i bitów\n",
    "qz = QuantumRegister(nz) # Rejestr kwantowy\n",
    "cz = ClassicalRegister(nz) # Rejestr klasyczny\n",
    "circuitZ = QuantumCircuit(qz, cz) # Algorytm kwantowy - kwantowy obwód\n",
    "operation(circuitZ,qz,k1,phi0,theta0)\n",
    "circuitZ.measure(qz[0], cz[0]) # Sprawdzenie stanów kubitów - kwantowy pomiar typu Z"
   ]
  },
  {
   "cell_type": "code",
   "execution_count": 21,
   "metadata": {},
   "outputs": [
    {
     "data": {
      "image/png": "[encoded data removed]",
      "text/plain": [
       "<Figure size 454.758x144.48 with 1 Axes>"
      ]
     },
     "execution_count": 21,
     "metadata": {},
     "output_type": "execute_result"
    }
   ],
   "source": [
    "circuitZ.draw(output='mpl')"
   ]
  },
  {
   "cell_type": "code",
   "execution_count": 22,
   "metadata": {},
   "outputs": [
    {
     "data": {
      "text/plain": [
       "<qiskit.circuit.instructionset.InstructionSet at 0x7fac6d964a50>"
      ]
     },
     "execution_count": 22,
     "metadata": {},
     "output_type": "execute_result"
    }
   ],
   "source": [
    "#Pomiar typu X (2.3)\n",
    "nx =n  # Liczba kubitów i bitów\n",
    "qx = QuantumRegister(nx) # Rejestr kwantowy\n",
    "cx = ClassicalRegister(nx) # Rejestr klasyczny\n",
    "circuitX = QuantumCircuit(qx, cx) # Algorytm kwantowy - kwantowy obwód\n",
    "operation(circuitX,qx,k1,phi0,theta0)\n",
    "circuitX.h(qx[0])\n",
    "circuitX.measure(qx[0], cx[0]) # Sprawdzenie stanów kubitów - kwantowy pomiar"
   ]
  },
  {
   "cell_type": "code",
   "execution_count": 23,
   "metadata": {},
   "outputs": [
    {
     "data": {
      "image/png": "[encoded data removed]",
      "text/plain": [
       "<Figure size 515.103x144.48 with 1 Axes>"
      ]
     },
     "execution_count": 23,
     "metadata": {},
     "output_type": "execute_result"
    }
   ],
   "source": [
    "circuitX.draw(output='mpl')"
   ]
  },
  {
   "cell_type": "code",
   "execution_count": 24,
   "metadata": {},
   "outputs": [
    {
     "data": {
      "text/plain": [
       "<qiskit.circuit.instructionset.InstructionSet at 0x7fac6db391d0>"
      ]
     },
     "execution_count": 24,
     "metadata": {},
     "output_type": "execute_result"
    }
   ],
   "source": [
    "#Pomiar typu Y (2.3)\n",
    "ny = n  # Liczba kubitów i bitów\n",
    "qy = QuantumRegister(ny) # Rejestr kwantowy\n",
    "cy = ClassicalRegister(ny) # Rejestr klasyczny\n",
    "circuitY = QuantumCircuit(qy, cy) # Algorytm kwantowy - kwantowy obwód\n",
    "operation(circuitY,qy,k1,phi0,theta0)\n",
    "circuitY.sdg(qy[0]) # Operacja X realizowana na kubicie qy[0]\n",
    "circuitY.h(qy[0]) # Operacja X realizowana na kubicie qy[0]\n",
    "circuitY.measure(qy[0], cy[0]) # Sprawdzenie stanów kubitów - kwantowy pomiar"
   ]
  },
  {
   "cell_type": "code",
   "execution_count": 25,
   "metadata": {},
   "outputs": [
    {
     "data": {
      "image/png": "[encoded data removed]",
      "text/plain": [
       "<Figure size 575.158x144.48 with 1 Axes>"
      ]
     },
     "execution_count": 25,
     "metadata": {},
     "output_type": "execute_result"
    }
   ],
   "source": [
    "circuitY.draw(output='mpl')"
   ]
  },
  {
   "cell_type": "code",
   "execution_count": 26,
   "metadata": {},
   "outputs": [
    {
     "name": "stdout",
     "output_type": "stream",
     "text": [
      "{'0': 519, '1': 1529}\n"
     ]
    }
   ],
   "source": [
    "# Obliczenia kwantowe - pomiar typu Z (2.4)\n",
    "job_simZ = execute(circuitZ, backend, shots=seria)\n",
    "sim_resultZ = job_simZ.result()\n",
    "# Liczbowa prezentacja wyników\n",
    "print(sim_resultZ.get_counts(circuitZ))"
   ]
  },
  {
   "cell_type": "code",
   "execution_count": 27,
   "metadata": {},
   "outputs": [
    {
     "data": {
      "image/png": "[encoded data removed]",
      "text/plain": [
       "<Figure size 504x360 with 1 Axes>"
      ]
     },
     "execution_count": 27,
     "metadata": {},
     "output_type": "execute_result"
    }
   ],
   "source": [
    "# Graficzna prezentacja wyników - pomiar typu Z (2.3)\n",
    "plot_histogram(sim_resultZ.get_counts(circuitZ))"
   ]
  },
  {
   "cell_type": "code",
   "execution_count": 28,
   "metadata": {},
   "outputs": [
    {
     "name": "stdout",
     "output_type": "stream",
     "text": [
      "{'0': 1466, '1': 582}\n"
     ]
    }
   ],
   "source": [
    "# Wykonanie obliczeń kwantowych - pomiar typu X (2.4)\n",
    "job_simX = execute(circuitX, backend, shots=seria)\n",
    "sim_resultX = job_simX.result()\n",
    "# Liczbowa prezentacja wyników wyników pomiaru typu X\n",
    "print(sim_resultX.get_counts(circuitX))"
   ]
  },
  {
   "cell_type": "code",
   "execution_count": 29,
   "metadata": {},
   "outputs": [
    {
     "data": {
      "image/png": "[encoded data removed]",
      "text/plain": [
       "<Figure size 504x360 with 1 Axes>"
      ]
     },
     "execution_count": 29,
     "metadata": {},
     "output_type": "execute_result"
    }
   ],
   "source": [
    "# Graficzna prezentacja wyników - pomiar typu X (2.4)\n",
    "plot_histogram(sim_resultX.get_counts(circuitX))"
   ]
  },
  {
   "cell_type": "code",
   "execution_count": 30,
   "metadata": {},
   "outputs": [
    {
     "name": "stdout",
     "output_type": "stream",
     "text": [
      "{'0': 263, '1': 1785}\n"
     ]
    }
   ],
   "source": [
    "# Wykonanie obliczeń kwantowych - pomiar typu Y (2.4)\n",
    "job_simY = execute(circuitY, backend, shots=seria)\n",
    "sim_resultY = job_simY.result()\n",
    "# Liczbowa prezentacja wyników pomoaru typu Y\n",
    "print(sim_resultY.get_counts(circuitY))"
   ]
  },
  {
   "cell_type": "code",
   "execution_count": 31,
   "metadata": {},
   "outputs": [
    {
     "data": {
      "image/png": "[encoded data removed]",
      "text/plain": [
       "<Figure size 504x360 with 1 Axes>"
      ]
     },
     "execution_count": 31,
     "metadata": {},
     "output_type": "execute_result"
    }
   ],
   "source": [
    "# Graficzna prezentacja wyników - pomiar typu Y (2.4)\n",
    "plot_histogram(sim_resultY.get_counts(circuitY))"
   ]
  },
  {
   "cell_type": "code",
   "execution_count": null,
   "metadata": {},
   "outputs": [],
   "source": []
  },
  {
   "cell_type": "code",
   "execution_count": null,
   "metadata": {},
   "outputs": [],
   "source": []
  },
  {
   "cell_type": "code",
   "execution_count": null,
   "metadata": {},
   "outputs": [],
   "source": []
  },
  {
   "cell_type": "code",
   "execution_count": null,
   "metadata": {},
   "outputs": [],
   "source": []
  }
 ],
 "metadata": {
  "kernelspec": {
   "display_name": "Python 3",
   "language": "python",
   "name": "python3"
  },
  "language_info": {
   "codemirror_mode": {
    "name": "ipython",
    "version": 3
   },
   "file_extension": ".py",
   "mimetype": "text/x-python",
   "name": "python",
   "nbconvert_exporter": "python",
   "pygments_lexer": "ipython3",
   "version": "3.7.8"
  }
 },
 "nbformat": 4,
 "nbformat_minor": 4
}
